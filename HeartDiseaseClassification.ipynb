{
  "nbformat": 4,
  "nbformat_minor": 0,
  "metadata": {
    "colab": {
      "provenance": [],
      "authorship_tag": "ABX9TyP7Ud45elAVlvxNzsZxMA7W",
      "include_colab_link": true
    },
    "kernelspec": {
      "name": "python3",
      "display_name": "Python 3"
    },
    "language_info": {
      "name": "python"
    }
  },
  "cells": [
    {
      "cell_type": "markdown",
      "metadata": {
        "id": "view-in-github",
        "colab_type": "text"
      },
      "source": [
        "<a href=\"https://colab.research.google.com/github/2018jangminjun/python/blob/main/HeartDiseaseClassification.ipynb\" target=\"_parent\"><img src=\"https://colab.research.google.com/assets/colab-badge.svg\" alt=\"Open In Colab\"/></a>"
      ]
    },
    {
      "cell_type": "code",
      "source": [
        "import tensorflow as tf\n",
        "from tensorflow.keras.models import Sequential\n",
        "from tensorflow.keras.layers import Dense, Dropout\n",
        "from sklearn.preprocessing import StandardScaler\n",
        "from tensorflow.keras.callbacks import ModelCheckpoint, EarlyStopping\n",
        "from sklearn.model_selection import train_test_split\n",
        "import pandas as pd\n",
        "import numpy as np\n",
        "import os \n",
        "import matplotlib.pyplot as plt\n",
        "\n",
        "np.random.seed(3)\n",
        "tf.random.set_seed(3)\n",
        "\n",
        "df = pd.read_csv('https://raw.githubusercontent.com/2018jangminjun/python/main/heart%20disease%20data')\n",
        "print('결측치 개수:',df.isnull().sum())\n",
        "\n",
        "df = df.fillna(df.mean())\n",
        "df = pd.get_dummies(df)\n",
        "scaler = StandardScaler()\n",
        "scaler.fit(df)\n",
        "df_scaled = scaler.transform(df)\n",
        "df_df_scaled = pd.DataFrame(data = df_scaled)\n",
        "df = df_df_scaled\n",
        "\n",
        "A = df.iloc[:,0:15] \n",
        "B = df.iloc[:,15:17]\n",
        "\n",
        "A_train, A_test, B_train, B_test = train_test_split(A, B, test_size = 0.1, shuffle = True)\n",
        "\n",
        "model = Sequential()\n",
        "model.add(Dense(24, input_dim=15, activation='relu'))\n",
        "model.add(Dense(10, activation='relu'))\n",
        "model.add(Dropout(0.2)) #dropout 사용\n",
        "model.add(Dense(2, activation='softmax'))\n",
        "model.summary()\n",
        "model.compile(loss='categorical_crossentropy', optimizer='adam', metrics=['accuracy'])\n",
        "\n",
        "early_stopping = EarlyStopping('val_accuracy', patience=20)\n",
        "modelpath = \"./data/model/bestmodel.hdf5\"\n",
        "checkpointer = ModelCheckpoint(filepath = modelpath, monitor= 'val_accuracy', verbose=0, save_best_only=True)\n",
        "history = model.fit(A_train, B_train, epochs =100, batch_size=50, validation_split=0.2, callbacks = [early_stopping, checkpointer])\n"
      ],
      "metadata": {
        "colab": {
          "base_uri": "https://localhost:8080/"
        },
        "id": "ZnT3J7aXPyp9",
        "outputId": "6480e1e6-f887-431f-ab96-1ae08c71719e"
      },
      "execution_count": null,
      "outputs": [
        {
          "output_type": "stream",
          "name": "stdout",
          "text": [
            "결측치 개수: Unnamed: 0    0\n",
            "age           0\n",
            "sex           0\n",
            "cp            0\n",
            "trestbps      4\n",
            "chol          1\n",
            "fbs           0\n",
            "restecg       0\n",
            "thalach       5\n",
            "exang         0\n",
            "oldpeak       0\n",
            "slope         0\n",
            "ca            0\n",
            "thal          0\n",
            "target        0\n",
            "dtype: int64\n"
          ]
        },
        {
          "output_type": "stream",
          "name": "stderr",
          "text": [
            "/usr/local/lib/python3.7/dist-packages/ipykernel_launcher.py:16: FutureWarning: Dropping of nuisance columns in DataFrame reductions (with 'numeric_only=None') is deprecated; in a future version this will raise TypeError.  Select only valid columns before calling the reduction.\n",
            "  app.launch_new_instance()\n"
          ]
        },
        {
          "output_type": "stream",
          "name": "stdout",
          "text": [
            "Model: \"sequential\"\n",
            "_________________________________________________________________\n",
            " Layer (type)                Output Shape              Param #   \n",
            "=================================================================\n",
            " dense (Dense)               (None, 24)                384       \n",
            "                                                                 \n",
            " dense_1 (Dense)             (None, 10)                250       \n",
            "                                                                 \n",
            " dropout (Dropout)           (None, 10)                0         \n",
            "                                                                 \n",
            " dense_2 (Dense)             (None, 2)                 22        \n",
            "                                                                 \n",
            "=================================================================\n",
            "Total params: 656\n",
            "Trainable params: 656\n",
            "Non-trainable params: 0\n",
            "_________________________________________________________________\n",
            "Epoch 1/100\n",
            "5/5 [==============================] - 4s 302ms/step - loss: -0.1084 - accuracy: 0.5300 - val_loss: -0.2256 - val_accuracy: 0.5455\n",
            "Epoch 2/100\n",
            "5/5 [==============================] - 0s 43ms/step - loss: -0.1922 - accuracy: 0.5392 - val_loss: -0.2868 - val_accuracy: 0.5818\n",
            "Epoch 3/100\n",
            "5/5 [==============================] - 0s 33ms/step - loss: -0.3056 - accuracy: 0.5622 - val_loss: -0.3401 - val_accuracy: 0.5818\n",
            "Epoch 4/100\n",
            "5/5 [==============================] - 0s 37ms/step - loss: -0.3355 - accuracy: 0.5622 - val_loss: -0.3891 - val_accuracy: 0.6364\n",
            "Epoch 5/100\n",
            "5/5 [==============================] - 0s 55ms/step - loss: -0.4010 - accuracy: 0.5991 - val_loss: -0.4355 - val_accuracy: 0.6545\n",
            "Epoch 6/100\n",
            "5/5 [==============================] - 0s 58ms/step - loss: -0.4680 - accuracy: 0.6221 - val_loss: -0.4816 - val_accuracy: 0.6727\n",
            "Epoch 7/100\n",
            "5/5 [==============================] - 0s 44ms/step - loss: -0.6276 - accuracy: 0.6406 - val_loss: -0.5271 - val_accuracy: 0.7455\n",
            "Epoch 8/100\n",
            "5/5 [==============================] - 0s 14ms/step - loss: -0.5623 - accuracy: 0.6820 - val_loss: -0.5732 - val_accuracy: 0.7455\n",
            "Epoch 9/100\n",
            "5/5 [==============================] - 0s 48ms/step - loss: -0.6345 - accuracy: 0.6406 - val_loss: -0.6165 - val_accuracy: 0.7818\n",
            "Epoch 10/100\n",
            "5/5 [==============================] - 0s 50ms/step - loss: -0.7359 - accuracy: 0.6820 - val_loss: -0.6629 - val_accuracy: 0.7818\n",
            "Epoch 11/100\n",
            "5/5 [==============================] - 0s 30ms/step - loss: -0.8539 - accuracy: 0.7051 - val_loss: -0.7137 - val_accuracy: 0.7818\n",
            "Epoch 12/100\n",
            "5/5 [==============================] - 0s 92ms/step - loss: -0.8737 - accuracy: 0.7143 - val_loss: -0.7662 - val_accuracy: 0.8182\n",
            "Epoch 13/100\n",
            "5/5 [==============================] - 0s 31ms/step - loss: -0.9727 - accuracy: 0.7281 - val_loss: -0.8220 - val_accuracy: 0.8182\n",
            "Epoch 14/100\n",
            "5/5 [==============================] - 0s 80ms/step - loss: -1.0805 - accuracy: 0.7281 - val_loss: -0.8792 - val_accuracy: 0.8182\n",
            "Epoch 15/100\n",
            "5/5 [==============================] - 0s 87ms/step - loss: -1.1347 - accuracy: 0.7696 - val_loss: -0.9400 - val_accuracy: 0.8364\n",
            "Epoch 16/100\n",
            "5/5 [==============================] - 0s 41ms/step - loss: -1.2566 - accuracy: 0.7880 - val_loss: -1.0066 - val_accuracy: 0.8364\n",
            "Epoch 17/100\n",
            "5/5 [==============================] - 0s 30ms/step - loss: -1.4130 - accuracy: 0.7650 - val_loss: -1.0801 - val_accuracy: 0.8727\n",
            "Epoch 18/100\n",
            "5/5 [==============================] - 0s 78ms/step - loss: -1.3669 - accuracy: 0.7604 - val_loss: -1.1539 - val_accuracy: 0.8909\n",
            "Epoch 19/100\n",
            "5/5 [==============================] - 0s 26ms/step - loss: -1.6163 - accuracy: 0.8018 - val_loss: -1.2292 - val_accuracy: 0.8909\n",
            "Epoch 20/100\n",
            "5/5 [==============================] - 0s 22ms/step - loss: -1.5915 - accuracy: 0.7558 - val_loss: -1.3089 - val_accuracy: 0.8909\n",
            "Epoch 21/100\n",
            "5/5 [==============================] - 0s 31ms/step - loss: -1.8198 - accuracy: 0.7834 - val_loss: -1.3896 - val_accuracy: 0.8909\n",
            "Epoch 22/100\n",
            "5/5 [==============================] - 0s 27ms/step - loss: -1.7961 - accuracy: 0.7926 - val_loss: -1.4751 - val_accuracy: 0.8727\n",
            "Epoch 23/100\n",
            "5/5 [==============================] - 0s 29ms/step - loss: -2.0587 - accuracy: 0.8295 - val_loss: -1.5678 - val_accuracy: 0.8909\n",
            "Epoch 24/100\n",
            "5/5 [==============================] - 0s 38ms/step - loss: -2.0427 - accuracy: 0.8111 - val_loss: -1.6629 - val_accuracy: 0.8909\n",
            "Epoch 25/100\n",
            "5/5 [==============================] - 0s 37ms/step - loss: -2.3164 - accuracy: 0.8203 - val_loss: -1.7590 - val_accuracy: 0.8909\n",
            "Epoch 26/100\n",
            "5/5 [==============================] - 0s 50ms/step - loss: -2.4973 - accuracy: 0.8295 - val_loss: -1.8603 - val_accuracy: 0.8909\n",
            "Epoch 27/100\n",
            "5/5 [==============================] - 0s 34ms/step - loss: -2.7043 - accuracy: 0.8295 - val_loss: -1.9705 - val_accuracy: 0.8909\n",
            "Epoch 28/100\n",
            "5/5 [==============================] - 0s 36ms/step - loss: -2.7459 - accuracy: 0.8249 - val_loss: -2.0938 - val_accuracy: 0.8909\n",
            "Epoch 29/100\n",
            "5/5 [==============================] - 0s 23ms/step - loss: -3.0510 - accuracy: 0.8756 - val_loss: -2.2300 - val_accuracy: 0.8909\n",
            "Epoch 30/100\n",
            "5/5 [==============================] - 0s 66ms/step - loss: -3.0420 - accuracy: 0.8341 - val_loss: -2.3770 - val_accuracy: 0.8909\n",
            "Epoch 31/100\n",
            "5/5 [==============================] - 0s 41ms/step - loss: -3.3768 - accuracy: 0.8479 - val_loss: -2.5320 - val_accuracy: 0.8909\n",
            "Epoch 32/100\n",
            "5/5 [==============================] - 0s 33ms/step - loss: -3.4518 - accuracy: 0.8664 - val_loss: -2.6986 - val_accuracy: 0.8909\n",
            "Epoch 33/100\n",
            "5/5 [==============================] - 0s 30ms/step - loss: -3.6595 - accuracy: 0.8479 - val_loss: -2.8731 - val_accuracy: 0.8909\n",
            "Epoch 34/100\n",
            "5/5 [==============================] - 0s 36ms/step - loss: -4.2898 - accuracy: 0.8525 - val_loss: -3.0572 - val_accuracy: 0.8727\n",
            "Epoch 35/100\n",
            "5/5 [==============================] - 0s 38ms/step - loss: -4.1275 - accuracy: 0.8433 - val_loss: -3.2558 - val_accuracy: 0.8727\n",
            "Epoch 36/100\n",
            "5/5 [==============================] - 0s 29ms/step - loss: -4.7505 - accuracy: 0.8525 - val_loss: -3.4659 - val_accuracy: 0.8727\n",
            "Epoch 37/100\n",
            "5/5 [==============================] - 0s 28ms/step - loss: -5.0717 - accuracy: 0.8710 - val_loss: -3.6947 - val_accuracy: 0.8727\n",
            "Epoch 38/100\n",
            "5/5 [==============================] - 0s 30ms/step - loss: -4.8844 - accuracy: 0.8525 - val_loss: -3.9319 - val_accuracy: 0.8727\n"
          ]
        }
      ]
    },
    {
      "cell_type": "code",
      "source": [
        "accuracy = model.evaluate(A_test, B_test)\n",
        "print('test dataset으로 구한 accuracy:',accuracy[1])"
      ],
      "metadata": {
        "colab": {
          "base_uri": "https://localhost:8080/"
        },
        "id": "7vdYr-LlH0_N",
        "outputId": "23ea1e25-46b0-4296-8333-624f08d410e8"
      },
      "execution_count": null,
      "outputs": [
        {
          "output_type": "stream",
          "name": "stdout",
          "text": [
            "1/1 [==============================] - 0s 61ms/step - loss: -5.8258 - accuracy: 0.8710\n",
            "test dataset으로 구한 accuracy: 0.8709677457809448\n"
          ]
        }
      ]
    },
    {
      "cell_type": "code",
      "source": [
        "plt.plot(history.history['accuracy'])\n",
        "plt.title('Epoch-Accuracy')\n",
        "plt.xlabel('Epoch')\n",
        "plt.ylabel('Accuracy')\n",
        "plt.show()\n",
        "\n",
        "plt.plot(history.history['val_accuracy'])\n",
        "plt.title('Epoch-Val_ccuracy graph')\n",
        "plt.xlabel('Epoch')\n",
        "plt.ylabel('Val_accuracy')\n",
        "plt.show()"
      ],
      "metadata": {
        "colab": {
          "base_uri": "https://localhost:8080/",
          "height": 573
        },
        "id": "qO51jdCkH2EK",
        "outputId": "52d5f7e3-f290-4412-a69b-c8bec48681ef"
      },
      "execution_count": null,
      "outputs": [
        {
          "output_type": "display_data",
          "data": {
            "text/plain": [
              "<Figure size 432x288 with 1 Axes>"
            ],
            "image/png": "[encoded data removed]"
          },
          "metadata": {
            "needs_background": "light"
          }
        },
        {
          "output_type": "display_data",
          "data": {
            "text/plain": [
              "<Figure size 432x288 with 1 Axes>"
            ],
            "image/png": "[encoded data removed]"
          },
          "metadata": {
            "needs_background": "light"
          }
        }
      ]
    },
    {
      "cell_type": "code",
      "source": [],
      "metadata": {
        "id": "_zC1mFAlNVob"
      },
      "execution_count": null,
      "outputs": []
    }
  ]
}