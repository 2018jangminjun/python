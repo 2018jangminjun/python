{
  "cells": [
    {
      "cell_type": "markdown",
      "metadata": {
        "id": "view-in-github",
        "colab_type": "text"
      },
      "source": [
        "<a href=\"https://colab.research.google.com/github/2018jangminjun/python/blob/main/python.ipynb\" target=\"_parent\"><img src=\"https://colab.research.google.com/assets/colab-badge.svg\" alt=\"Open In Colab\"/></a>"
      ]
    },
    {
      "cell_type": "code",
      "source": [
        "n = int(input(\"자연수 한 개를 입력하세요.\"))\n",
        "A = [n]\n",
        "r=99\n",
        "\n",
        "for i in range(r):\n",
        "    num = int(input(\"계속 입력을 원하시면, 자연수 한 개를 입력하시고, 아니라면 0을 입력하세요.\"))        \n",
        "    if num==0:\n",
        "      break\n",
        "    A.append(num)\n",
        "    for k in range(len(A)):\n",
        "       for j in range(k+1,len(A)):\n",
        "         if A[k]<A[j]:\n",
        "            A[k],A[j]=A[j],A[k] \n",
        "    \n",
        "if len(A)<=r:  \n",
        "  A_str = str(A)[1:-1]\n",
        "  print(\"당신이 입력한 숫자는 큰 것부터 순서대로 말한다면 아래와 같습니다.\\n\",A_str)\n",
        "\n",
        "else:  \n",
        "  print(\"이제 그만하세요. 벌써 \"+str(r+1)+\"개를 입력했어요.\")\n"
      ],
      "metadata": {
        "colab": {
          "base_uri": "https://localhost:8080/"
        },
        "id": "80lWOAP067wB",
        "outputId": "23833d9e-3596-4911-b410-bd4101623a41"
      },
      "execution_count": null,
      "outputs": [
        {
          "output_type": "stream",
          "name": "stdout",
          "text": [
            "자연수 한 개를 입력하세요.94\n",
            "계속 입력을 원하시면, 자연수 한 개를 입력하시고, 아니라면 0을 입력하세요.27\n",
            "계속 입력을 원하시면, 자연수 한 개를 입력하시고, 아니라면 0을 입력하세요.99\n",
            "계속 입력을 원하시면, 자연수 한 개를 입력하시고, 아니라면 0을 입력하세요.52\n",
            "계속 입력을 원하시면, 자연수 한 개를 입력하시고, 아니라면 0을 입력하세요.36\n",
            "계속 입력을 원하시면, 자연수 한 개를 입력하시고, 아니라면 0을 입력하세요.0\n",
            "당신이 입력한 숫자는 큰 것부터 순서대로 말한다면 아래와 같습니다.\n",
            " 99, 94, 52, 36, 27\n"
          ]
        }
      ]
    },
    {
      "cell_type": "code",
      "source": [
        "n = int(input(\"숫자를 입력해주세요.:\"))\n",
        "i = 0\n",
        "j = 0\n",
        "if n<=30:\n",
        "  while True:\n",
        "    i+=1\n",
        "    j+=1\n",
        "    print(\"*\"*(i-1)+str(j))\n",
        "    if i == n:\n",
        "      break\n",
        "else:\n",
        "  print(\"너무 많습니다.\")"
      ],
      "metadata": {
        "id": "XnKRDiahe4Ey",
        "colab": {
          "base_uri": "https://localhost:8080/"
        },
        "outputId": "6b65018e-ee68-457b-efd6-d0f7afd55550"
      },
      "execution_count": null,
      "outputs": [
        {
          "output_type": "stream",
          "name": "stdout",
          "text": [
            "숫자를 입력해주세요.:7\n",
            "1\n",
            "*2\n",
            "**3\n",
            "***4\n",
            "****5\n",
            "*****6\n",
            "******7\n"
          ]
        }
      ]
    }
  ],
  "metadata": {
    "colab": {
      "collapsed_sections": [],
      "provenance": [],
      "authorship_tag": "ABX9TyMCLksIgrX8JfjecVQADdyT",
      "include_colab_link": true
    },
    "kernelspec": {
      "display_name": "Python 3",
      "name": "python3"
    },
    "language_info": {
      "name": "python"
    }
  },
  "nbformat": 4,
  "nbformat_minor": 0
}