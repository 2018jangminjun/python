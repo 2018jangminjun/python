{
  "nbformat": 4,
  "nbformat_minor": 0,
  "metadata": {
    "colab": {
      "provenance": [],
      "authorship_tag": "ABX9TyOV4w500FK9Qfct6sRj76il",
      "include_colab_link": true
    },
    "kernelspec": {
      "name": "python3",
      "display_name": "Python 3"
    },
    "language_info": {
      "name": "python"
    }
  },
  "cells": [
    {
      "cell_type": "markdown",
      "metadata": {
        "id": "view-in-github",
        "colab_type": "text"
      },
      "source": [
        "<a href=\"https://colab.research.google.com/github/2018jangminjun/python/blob/main/CNN.ipynb\" target=\"_parent\"><img src=\"https://colab.research.google.com/assets/colab-badge.svg\" alt=\"Open In Colab\"/></a>"
      ]
    },
    {
      "cell_type": "code",
      "execution_count": null,
      "metadata": {
        "colab": {
          "base_uri": "https://localhost:8080/",
          "height": 453
        },
        "id": "Y9ommUASV1oJ",
        "outputId": "6886af95-db19-404d-942d-4c30514b9e1a"
      },
      "outputs": [
        {
          "output_type": "stream",
          "name": "stdout",
          "text": [
            "Downloading data from https://storage.googleapis.com/tensorflow/tf-keras-datasets/train-labels-idx1-ubyte.gz\n",
            "29515/29515 [==============================] - 0s 0us/step\n",
            "Downloading data from https://storage.googleapis.com/tensorflow/tf-keras-datasets/train-images-idx3-ubyte.gz\n",
            "26421880/26421880 [==============================] - 1s 0us/step\n",
            "Downloading data from https://storage.googleapis.com/tensorflow/tf-keras-datasets/t10k-labels-idx1-ubyte.gz\n",
            "5148/5148 [==============================] - 0s 0us/step\n",
            "Downloading data from https://storage.googleapis.com/tensorflow/tf-keras-datasets/t10k-images-idx3-ubyte.gz\n",
            "4422102/4422102 [==============================] - 0s 0us/step\n",
            "(60000, 28, 28)\n"
          ]
        },
        {
          "output_type": "display_data",
          "data": {
            "text/plain": [
              "<Figure size 432x288 with 1 Axes>"
            ],
            "image/png": "[encoded data removed]"
          },
          "metadata": {
            "needs_background": "light"
          }
        }
      ],
      "source": [
        "import tensorflow as tf\n",
        "from tensorflow.keras.models import Sequential \n",
        "from tensorflow.keras.layers import Dense,Dropout,Flatten,Conv2D,MaxPooling2D\n",
        "from tensorflow.keras.callbacks import ModelCheckpoint, EarlyStopping\n",
        "from tensorflow.keras.datasets import mnist\n",
        "from tensorflow.keras.utils import to_categorical\n",
        "\n",
        "import matplotlib.pyplot as plt\n",
        "import numpy as np\n",
        "import os\n",
        "\n",
        "fashion_mnist = tf.keras.datasets.fashion_mnist\n",
        "\n",
        "(X_train, y_train),(X_test, y_test) = fashion_mnist.load_data()\n",
        "\n",
        "type(X_train)\n",
        "\n",
        "print(X_train.shape)\n",
        "\n",
        "plt.imshow(X_train[360], cmap='Greys')\n",
        "plt.show()\n",
        "\n"
      ]
    },
    {
      "cell_type": "code",
      "source": [
        "import sys\n",
        "\n",
        "for x in X_train[360]:\n",
        "  for i in x:\n",
        "    sys.stdout.write(\"%-3s\"%i)\n",
        "  sys.stdout.write('\\n') "
      ],
      "metadata": {
        "colab": {
          "base_uri": "https://localhost:8080/"
        },
        "id": "gOs-yAeBfLOB",
        "outputId": "041a6c15-e9b8-44af-c2df-0712759554f4"
      },
      "execution_count": null,
      "outputs": [
        {
          "output_type": "stream",
          "name": "stdout",
          "text": [
            "0  0  0  0  0  0  0  0  0  0  0  0  0  0  0  0  0  0  0  0  0  0  0  0  0  0  0  0  \n",
            "0  0  0  0  0  0  0  0  0  0  0  0  0  0  0  0  0  0  0  0  0  0  0  0  0  0  0  0  \n",
            "0  0  0  0  0  0  0  0  0  0  0  0  0  0  0  0  0  0  0  0  0  0  0  0  0  0  0  0  \n",
            "0  0  0  0  0  0  0  0  0  0  0  0  0  0  0  0  0  0  0  0  0  0  0  0  0  0  0  0  \n",
            "0  0  0  0  0  0  0  0  0  0  0  0  0  0  0  0  0  0  0  0  0  0  0  0  0  0  0  0  \n",
            "0  0  0  0  0  0  0  0  0  0  0  0  0  0  0  0  0  0  0  0  0  0  0  0  0  0  0  0  \n",
            "0  0  0  0  0  0  0  0  0  0  0  0  0  0  0  0  0  0  0  0  0  0  0  0  0  0  0  0  \n",
            "0  0  0  0  0  0  0  0  0  3  0  0  1  0  0  2  0  0  0  0  0  2  0  0  14 19987 0  \n",
            "0  0  0  0  0  0  0  0  1  3  0  0  0  0  0  0  0  5  0  4  0  0  0  1292172342140  \n",
            "0  0  0  0  0  0  0  0  0  0  2  0  10 23813822 0  0  0  0  0  82 23025421321325515 \n",
            "0  0  0  0  0  0  0  0  0  0  0  0  16521222523021211453 92 20925421620321421625463 \n",
            "0  0  0  0  0  0  0  0  1  0  0  117217209213213224254254254231200205215216210253105\n",
            "0  0  0  0  0  0  0  0  0  0  83 253210217216222212203211204200216213218225218255100\n",
            "0  0  0  0  0  0  0  0  0  51 25321021420520921521221221520921120420421821522225542 \n",
            "0  0  1  3  0  5  0  0  34 2532162002002062162122042102152062152502552472182252280  \n",
            "0  0  0  0  0  0  0  84 2341961851972012092172142152162182322551911191672242391400  \n",
            "0  0  0  1  12 88 20924520418920620921321821021921323125518413 0  0  0  18224740 0  \n",
            "13 14217218720221420820120821421221221120821821623724658 0  0  0  0  0  1632341  0  \n",
            "1412422162022001981952032042052082112122152142371970  0  0  0  0  0  0  1702110  0  \n",
            "0  96 1501932132232192122082052052082152192441870  0  2  0  0  0  0  0  1771890  0  \n",
            "0  0  0  0  21 77 1481962282482542552552551510  0  2  0  0  0  1  0  0  1991780  0  \n",
            "0  1  0  0  0  0  0  0  0  19 40 59 64 28 0  0  0  0  0  0  0  0  0  0  13095 0  0  \n",
            "0  0  0  0  0  0  0  0  0  0  0  0  0  0  0  0  0  0  0  0  0  0  0  0  0  0  0  0  \n",
            "0  0  0  0  0  0  0  0  0  0  0  0  0  0  0  0  0  0  0  0  0  0  0  0  0  0  0  0  \n",
            "0  0  0  0  0  0  0  0  0  0  0  0  0  0  0  0  0  0  0  0  0  0  0  0  0  0  0  0  \n",
            "0  0  0  0  0  0  0  0  0  0  0  0  0  0  0  0  0  0  0  0  0  0  0  0  0  0  0  0  \n",
            "0  0  0  0  0  0  0  0  0  0  0  0  0  0  0  0  0  0  0  0  0  0  0  0  0  0  0  0  \n",
            "0  0  0  0  0  0  0  0  0  0  0  0  0  0  0  0  0  0  0  0  0  0  0  0  0  0  0  0  \n"
          ]
        }
      ]
    },
    {
      "cell_type": "code",
      "source": [
        "X_train = X_train.reshape(X_train.shape[0],28,28,1).astype('float32')/255\n",
        "X_test = X_test.reshape(X_test.shape[0],28,28,1).astype('float32')/255\n",
        "y_train = to_categorical(y_train)\n",
        "y_test = to_categorical(y_test)\n",
        "y_train[360]"
      ],
      "metadata": {
        "colab": {
          "base_uri": "https://localhost:8080/"
        },
        "id": "DyEHuSHSf1_0",
        "outputId": "7a9c6257-5119-4c4d-8f1a-0cb26b05b977"
      },
      "execution_count": null,
      "outputs": [
        {
          "output_type": "execute_result",
          "data": {
            "text/plain": [
              "array([0., 0., 0., 0., 0., 0., 0., 0., 0., 1.], dtype=float32)"
            ]
          },
          "metadata": {},
          "execution_count": 3
        }
      ]
    },
    {
      "cell_type": "code",
      "source": [
        "type(y_train)"
      ],
      "metadata": {
        "colab": {
          "base_uri": "https://localhost:8080/"
        },
        "id": "3vzhMHwViPuT",
        "outputId": "23037617-3771-439e-9fdf-182a159acb7c"
      },
      "execution_count": null,
      "outputs": [
        {
          "output_type": "execute_result",
          "data": {
            "text/plain": [
              "numpy.ndarray"
            ]
          },
          "metadata": {},
          "execution_count": 31
        }
      ]
    },
    {
      "cell_type": "code",
      "source": [
        "model = Sequential()\n",
        "model.add(Conv2D(32, kernel_size=(4,4), input_shape=(28,28,1),activation='relu'))\n",
        "model.add(Conv2D(64, (4,4), activation='relu'))\n",
        "model.add(MaxPooling2D(pool_size=(4,4)))\n",
        "model.add(Dropout(0.2))\n",
        "model.add(Flatten())\n",
        "model.add(Dense(128, activation='relu'))\n",
        "model.add(Dropout(0.2))\n",
        "model.add(Dense(10, activation='softmax'))\n",
        "\n",
        "model.compile(loss='categorical_crossentropy',optimizer='adam',metrics=['accuracy'])\n",
        "\n",
        "modelpath=\"./data/model/MNIST_CNN.hdf5\"\n",
        "\n",
        "checkpointer = ModelCheckpoint(filepath = modelpath,monitor='val_loss',verbose=1,save_best_only=True)\n",
        "early_stopping_callback = EarlyStopping(monitor='val_loss',patience=10)\n",
        "\n",
        "history = model.fit(X_train, y_train, validation_split=0.3, epochs=30, batch_size=100, verbose=0, callbacks=[early_stopping_callback,checkpointer])"
      ],
      "metadata": {
        "colab": {
          "base_uri": "https://localhost:8080/"
        },
        "id": "ieAdduGhiTdv",
        "outputId": "12cfb09d-5c9f-4c63-f074-97e76389b950"
      },
      "execution_count": null,
      "outputs": [
        {
          "output_type": "stream",
          "name": "stdout",
          "text": [
            "\n",
            "Epoch 1: val_loss improved from inf to 0.38689, saving model to ./data/model/MNIST_CNN.hdf5\n",
            "\n",
            "Epoch 2: val_loss improved from 0.38689 to 0.31995, saving model to ./data/model/MNIST_CNN.hdf5\n",
            "\n",
            "Epoch 3: val_loss improved from 0.31995 to 0.29754, saving model to ./data/model/MNIST_CNN.hdf5\n",
            "\n",
            "Epoch 4: val_loss improved from 0.29754 to 0.27806, saving model to ./data/model/MNIST_CNN.hdf5\n",
            "\n",
            "Epoch 5: val_loss improved from 0.27806 to 0.26571, saving model to ./data/model/MNIST_CNN.hdf5\n",
            "\n",
            "Epoch 6: val_loss improved from 0.26571 to 0.25867, saving model to ./data/model/MNIST_CNN.hdf5\n",
            "\n",
            "Epoch 7: val_loss improved from 0.25867 to 0.24355, saving model to ./data/model/MNIST_CNN.hdf5\n",
            "\n",
            "Epoch 8: val_loss improved from 0.24355 to 0.24176, saving model to ./data/model/MNIST_CNN.hdf5\n",
            "\n",
            "Epoch 9: val_loss did not improve from 0.24176\n",
            "\n",
            "Epoch 10: val_loss did not improve from 0.24176\n",
            "\n",
            "Epoch 11: val_loss improved from 0.24176 to 0.22825, saving model to ./data/model/MNIST_CNN.hdf5\n",
            "\n",
            "Epoch 12: val_loss did not improve from 0.22825\n",
            "\n",
            "Epoch 13: val_loss did not improve from 0.22825\n",
            "\n",
            "Epoch 14: val_loss improved from 0.22825 to 0.22718, saving model to ./data/model/MNIST_CNN.hdf5\n",
            "\n",
            "Epoch 15: val_loss did not improve from 0.22718\n",
            "\n",
            "Epoch 16: val_loss did not improve from 0.22718\n",
            "\n",
            "Epoch 17: val_loss did not improve from 0.22718\n",
            "\n",
            "Epoch 18: val_loss did not improve from 0.22718\n",
            "\n",
            "Epoch 19: val_loss did not improve from 0.22718\n",
            "\n",
            "Epoch 20: val_loss did not improve from 0.22718\n",
            "\n",
            "Epoch 21: val_loss did not improve from 0.22718\n",
            "\n",
            "Epoch 22: val_loss did not improve from 0.22718\n",
            "\n",
            "Epoch 23: val_loss did not improve from 0.22718\n",
            "\n",
            "Epoch 24: val_loss did not improve from 0.22718\n"
          ]
        }
      ]
    },
    {
      "cell_type": "code",
      "source": [
        "y_vloss = history.history['val_loss']\n",
        "y_loss = history.history['loss']\n",
        "\n",
        "x_len = np.arange(len(y_loss))\n",
        "plt.plot(x_len,y_vloss, marker='.',c=\"red\", label='Testset_loss')\n",
        "plt.plot(x_len,y_loss, marker='.', c=\"blue\", label='Trainset_loss')\n",
        "\n",
        "plt.legend(loc='upper right')\n",
        "plt.grid()\n",
        "plt.xlabel('epoch')\n",
        "plt.ylabel('loss')\n",
        "plt.show()"
      ],
      "metadata": {
        "colab": {
          "base_uri": "https://localhost:8080/",
          "height": 279
        },
        "id": "D_qsHZm2HDFg",
        "outputId": "7b9e3bda-68e3-4c88-c8a3-b4d97a173fef"
      },
      "execution_count": null,
      "outputs": [
        {
          "output_type": "display_data",
          "data": {
            "text/plain": [
              "<Figure size 432x288 with 1 Axes>"
            ],
            "image/png": "[encoded data removed]"
          },
          "metadata": {
            "needs_background": "light"
          }
        }
      ]
    }
  ]
}